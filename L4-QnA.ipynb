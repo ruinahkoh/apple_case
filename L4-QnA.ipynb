{
 "cells": [
  {
   "cell_type": "markdown",
   "id": "52824b89-532a-4e54-87e9-1410813cd39e",
   "metadata": {},
   "source": [
    "# LangChain: Q&A over Documents\n",
    "\n",
    "An example might be a tool that would allow you to query a product catalog for items of interest."
   ]
  },
  {
   "cell_type": "code",
   "execution_count": null,
   "id": "10c1f7b9",
   "metadata": {
    "height": 30
   },
   "outputs": [],
   "source": [
    "#pip install --upgrade langchain"
   ]
  },
  {
   "cell_type": "code",
   "execution_count": 5,
   "id": "b7ed03ed-1322-49e3-b2a2-33e94fb592ef",
   "metadata": {
    "height": 81,
    "tags": []
   },
   "outputs": [],
   "source": [
    "import os\n",
    "import openai\n",
    "\n",
    "openai.api_key = os.environ[\"OPENAI_API_KEY\"]"
   ]
  },
  {
   "cell_type": "code",
   "execution_count": 29,
   "id": "994c95b9",
   "metadata": {},
   "outputs": [],
   "source": [
    "import concurrent.futures\n",
    "import pandas as pd\n",
    "from langchain.chains import RetrievalQA, VectorDBQA\n",
    "from langchain.chat_models import ChatOpenAI\n",
    "from langchain.document_loaders import CSVLoader\n",
    "from langchain.embeddings import OpenAIEmbeddings\n",
    "from langchain_community.vectorstores import FAISS \n",
    "from langchain.vectorstores import DocArrayInMemorySearch, Chroma\n",
    "from langchain.indexes import VectorstoreIndexCreator\n",
    "from IPython.display import display, Markdown\n",
    "from langchain.llms import OpenAI"
   ]
  },
  {
   "cell_type": "code",
   "execution_count": 7,
   "id": "924826ce",
   "metadata": {},
   "outputs": [],
   "source": [
    "## data contains news articles related to technology"
   ]
  },
  {
   "cell_type": "code",
   "execution_count": 8,
   "id": "71ffaa61",
   "metadata": {},
   "outputs": [
    {
     "data": {
      "text/html": [
       "<div>\n",
       "<style scoped>\n",
       "    .dataframe tbody tr th:only-of-type {\n",
       "        vertical-align: middle;\n",
       "    }\n",
       "\n",
       "    .dataframe tbody tr th {\n",
       "        vertical-align: top;\n",
       "    }\n",
       "\n",
       "    .dataframe thead th {\n",
       "        text-align: right;\n",
       "    }\n",
       "</style>\n",
       "<table border=\"1\" class=\"dataframe\">\n",
       "  <thead>\n",
       "    <tr style=\"text-align: right;\">\n",
       "      <th></th>\n",
       "      <th>blurp</th>\n",
       "    </tr>\n",
       "  </thead>\n",
       "  <tbody>\n",
       "    <tr>\n",
       "      <th>0</th>\n",
       "      <td>John Hopfield and Geoffrey Hinton developed ar...</td>\n",
       "    </tr>\n",
       "    <tr>\n",
       "      <th>1</th>\n",
       "      <td>[Removed]</td>\n",
       "    </tr>\n",
       "    <tr>\n",
       "      <th>2</th>\n",
       "      <td>The award should not feed the AI-hype cycle.</td>\n",
       "    </tr>\n",
       "    <tr>\n",
       "      <th>3</th>\n",
       "      <td>Two scientists have been awarded\\r\\n the Nobel...</td>\n",
       "    </tr>\n",
       "    <tr>\n",
       "      <th>4</th>\n",
       "      <td>OpenAI is now valued at $157 billion, a close ...</td>\n",
       "    </tr>\n",
       "    <tr>\n",
       "      <th>...</th>\n",
       "      <td>...</td>\n",
       "    </tr>\n",
       "    <tr>\n",
       "      <th>478</th>\n",
       "      <td>Garrett expands its innovation footprint with ...</td>\n",
       "    </tr>\n",
       "    <tr>\n",
       "      <th>479</th>\n",
       "      <td>Actuators play a vital role in improving vehic...</td>\n",
       "    </tr>\n",
       "    <tr>\n",
       "      <th>480</th>\n",
       "      <td>Tariffs be damned, Chinese EV brand ZEEKR cont...</td>\n",
       "    </tr>\n",
       "    <tr>\n",
       "      <th>481</th>\n",
       "      <td>GUANGZHOU, China, Oct. 9, 2024 /PRNewswire/ --...</td>\n",
       "    </tr>\n",
       "    <tr>\n",
       "      <th>482</th>\n",
       "      <td>Dublin, Oct. 09, 2024 (GLOBE NEWSWIRE) -- The ...</td>\n",
       "    </tr>\n",
       "  </tbody>\n",
       "</table>\n",
       "<p>483 rows × 1 columns</p>\n",
       "</div>"
      ],
      "text/plain": [
       "                                                 blurp\n",
       "0    John Hopfield and Geoffrey Hinton developed ar...\n",
       "1                                            [Removed]\n",
       "2         The award should not feed the AI-hype cycle.\n",
       "3    Two scientists have been awarded\\r\\n the Nobel...\n",
       "4    OpenAI is now valued at $157 billion, a close ...\n",
       "..                                                 ...\n",
       "478  Garrett expands its innovation footprint with ...\n",
       "479  Actuators play a vital role in improving vehic...\n",
       "480  Tariffs be damned, Chinese EV brand ZEEKR cont...\n",
       "481  GUANGZHOU, China, Oct. 9, 2024 /PRNewswire/ --...\n",
       "482  Dublin, Oct. 09, 2024 (GLOBE NEWSWIRE) -- The ...\n",
       "\n",
       "[483 rows x 1 columns]"
      ]
     },
     "execution_count": 8,
     "metadata": {},
     "output_type": "execute_result"
    }
   ],
   "source": [
    "df = pd.read_csv('data/tech_news_articles.csv')\n",
    "df['blurp'].to_csv('./data/vectorstore.csv',index=False)\n",
    "pd.read_csv('data/vectorstore.csv')"
   ]
  },
  {
   "cell_type": "code",
   "execution_count": 34,
   "id": "7249846e",
   "metadata": {
    "height": 47
   },
   "outputs": [],
   "source": [
    "file = 'data/vectorstore.csv'\n",
    "# file = 'data/tech_news_articles.csv'\n",
    "loader = CSVLoader(file_path=file)\n",
    "documents = loader.load()"
   ]
  },
  {
   "cell_type": "code",
   "execution_count": 35,
   "id": "fb8320f0",
   "metadata": {},
   "outputs": [
    {
     "data": {
      "text/plain": [
       "Document(metadata={'source': 'data/tech_news_articles.csv', 'row': 0}, page_content=': 0\\ntitle: Nobel Prize Goes to ‘Godfathers of AI’ Who Now Fear Their Work Is Growing Too Powerful\\nimgurl: https://gizmodo.com/app/uploads/2024/10/nobel-hinton-hopfield-ai.jpg\\ndate: 08/10/2024\\nblurp: John Hopfield and Geoffrey Hinton developed artificial neural networks that laid the foundation for modern recommendation systems and generative AI.\\nurl: https://gizmodo.com/nobel-prize-goes-to-godfathers-of-ai-who-now-fear-their-work-is-growing-too-powerful-2000509098\\ntext: Two AI researchers, John Hopfield and Geoffrey Hinton, received the Nobel Prize in physics on Monday for their work building artificial neural networks that can memorize information and recognize pat… [+3174 chars]\\ncategory: artificial intelligence\\nsource: gizmodo.com')"
      ]
     },
     "execution_count": 35,
     "metadata": {},
     "output_type": "execute_result"
    }
   ],
   "source": [
    "documents[0]"
   ]
  },
  {
   "cell_type": "code",
   "execution_count": 19,
   "id": "c90a3ac9",
   "metadata": {},
   "outputs": [],
   "source": [
    "from langchain_huggingface import HuggingFaceEmbeddings\n",
    "# define embeddings\n",
    "embeddings = HuggingFaceEmbeddings(\n",
    "    model_name=\"thenlper/gte-small\")"
   ]
  },
  {
   "cell_type": "code",
   "execution_count": 20,
   "id": "63b004a1",
   "metadata": {},
   "outputs": [],
   "source": [
    "query = 'what is the most popular language?'"
   ]
  },
  {
   "cell_type": "code",
   "execution_count": 12,
   "id": "9b5ab657",
   "metadata": {
    "height": 30
   },
   "outputs": [],
   "source": [
    "#pip install docarray"
   ]
  },
  {
   "cell_type": "code",
   "execution_count": 21,
   "id": "9e200726",
   "metadata": {
    "height": 64
   },
   "outputs": [
    {
     "name": "stderr",
     "output_type": "stream",
     "text": [
      "/Users/ruinah/Documents/ISYE6740/project/api/myenv/lib/python3.9/site-packages/pydantic/_migration.py:283: UserWarning: `pydantic.error_wrappers:ValidationError` has been moved to `pydantic:ValidationError`.\n",
      "  warnings.warn(f'`{import_path}` has been moved to `{new_location}`.')\n"
     ]
    }
   ],
   "source": [
    "index = VectorstoreIndexCreator(\n",
    "    embedding=embeddings,\n",
    "    vectorstore_cls=DocArrayInMemorySearch\n",
    ").from_loaders([loader])"
   ]
  },
  {
   "cell_type": "code",
   "execution_count": 22,
   "id": "cfd0cc37",
   "metadata": {
    "height": 98
   },
   "outputs": [
    {
     "name": "stderr",
     "output_type": "stream",
     "text": [
      "/var/folders/h5/q_hpffn12_589xblfw6_4j1m0000gn/T/ipykernel_45063/316324751.py:1: LangChainDeprecationWarning: The class `ChatOpenAI` was deprecated in LangChain 0.0.10 and will be removed in 1.0. An updated version of the class exists in the :class:`~langchain-openai package and should be used instead. To use it run `pip install -U :class:`~langchain-openai` and import as `from :class:`~langchain_openai import ChatOpenAI``.\n",
      "  llm_replacement_model = ChatOpenAI(temperature=0, model='gpt-4o-mini')\n"
     ]
    }
   ],
   "source": [
    "llm_replacement_model = ChatOpenAI(temperature=0, model='gpt-4o-mini')\n",
    "\n",
    "response = index.query(query, llm_replacement_model)"
   ]
  },
  {
   "cell_type": "code",
   "execution_count": 23,
   "id": "01e6f6c0",
   "metadata": {},
   "outputs": [],
   "source": [
    "# Responds with the summary of the document most related to the query"
   ]
  },
  {
   "cell_type": "code",
   "execution_count": 24,
   "id": "ae21f1ff",
   "metadata": {
    "height": 30,
    "scrolled": true
   },
   "outputs": [
    {
     "data": {
      "text/markdown": [
       "I don't know."
      ],
      "text/plain": [
       "<IPython.core.display.Markdown object>"
      ]
     },
     "metadata": {},
     "output_type": "display_data"
    }
   ],
   "source": [
    "display(Markdown(response))"
   ]
  },
  {
   "cell_type": "code",
   "execution_count": 51,
   "id": "fa29dae8",
   "metadata": {},
   "outputs": [],
   "source": [
    "query =\"which article is most relevant to AI?\""
   ]
  },
  {
   "cell_type": "code",
   "execution_count": 52,
   "id": "2d347a4e",
   "metadata": {},
   "outputs": [],
   "source": [
    "response = index.query(query, llm_replacement_model)"
   ]
  },
  {
   "cell_type": "code",
   "execution_count": 53,
   "id": "17cee2c4",
   "metadata": {},
   "outputs": [
    {
     "data": {
      "text/markdown": [
       "The first blurp about two artificial intelligence pioneers being awarded the Nobel Prize for their work in machine learning is the most relevant to AI."
      ],
      "text/plain": [
       "<IPython.core.display.Markdown object>"
      ]
     },
     "metadata": {},
     "output_type": "display_data"
    }
   ],
   "source": [
    "display(Markdown(response))"
   ]
  },
  {
   "cell_type": "markdown",
   "id": "a7187573",
   "metadata": {},
   "source": [
    "## Using Chroma Vectordb"
   ]
  },
  {
   "cell_type": "code",
   "execution_count": 30,
   "id": "658be6ed",
   "metadata": {},
   "outputs": [],
   "source": [
    "#Place vectorDB under /tmp. It can be anywhere else\n",
    "# from langchain.vectorstores import Chroma\n",
    "persist_directory = \"/tmp/chromadb\"\n",
    "vectordb = Chroma.from_documents(documents=list(documents[0:1]), embedding=embeddings,\n",
    "                                 persist_directory=persist_directory)\n",
    "\n",
    "\n",
    "# vectordb.persist()\n",
    "# vectordb._collection.count()\n",
    "\n",
    "def batch_process(documents_arr, batch_size,):\n",
    "    for i in range(1, len(documents_arr), batch_size):\n",
    "        batch = documents_arr[i:i + batch_size]\n",
    "        add_to_chroma_database(batch)\n",
    "\n",
    "def add_to_chroma_database(batch):\n",
    "    vectordb.add_documents(documents=batch)\n",
    "    \n",
    "    \n",
    "batch_size = 100\n",
    "\n",
    "# batch_process(documents, batch_size, add_to_chroma_database)\n",
    "\n",
    "def form_batch(documents_arr, batch_size):\n",
    "    data_list = []\n",
    "    for i in range(1, len(documents_arr), batch_size):\n",
    "        data_list.append(documents_arr[i:i + batch_size])\n",
    "    return data_list\n",
    "\n",
    "data_list = form_batch(documents, 100)\n",
    "\n",
    "#this allows parallel processing and faster processing for inserting the articles into chroma\n",
    "with concurrent.futures.ThreadPoolExecutor(max_workers=5) as executor:\n",
    "        executor.map(add_to_chroma_database, data_list)"
   ]
  },
  {
   "cell_type": "code",
   "execution_count": 39,
   "id": "227da161",
   "metadata": {},
   "outputs": [
    {
     "name": "stdout",
     "output_type": "stream",
     "text": [
      "blurp: Deploying AI applications to the cloud is a crucial step in enhancing their accessibility, usability, and real-world impact. By transitioning AI apps from a local environment to the cloud, developers can ensure that their applications are easily accessible to…\n",
      "blurp: Hello everyone,\r\n",
      "I’m exploring ways to optimize [cloud storage][1] solutions using Wolfram Language and would love to hear your insights and experiences.\r\n",
      "I’ve been working with large datasets and am particularly interested in:\r\n",
      "1.Data Compression: Are there …\n",
      "blurp: The article highlights the critical need for robust cloud security amidst emerging threats like APTs, quantum computing risks, and ransomware-as-a-service. It details advancements like Zero Trust Architecture, AI and ML integration, Secure Access Service Edge…\n",
      "blurp: These cloud security statistics paint a worrying picture for businesses worldwide. Nearly one in two companies have reported security breaches, a statistic all the more disturbing considering that nearly half of...\n",
      "The post Why NordLayer is so Successful — Th…\n"
     ]
    },
    {
     "data": {
      "text/plain": [
       "[None, None, None, None]"
      ]
     },
     "execution_count": 39,
     "metadata": {},
     "output_type": "execute_result"
    }
   ],
   "source": [
    "results = vectordb.similarity_search(query)\n",
    "[print(doc.page_content) for doc in results]"
   ]
  },
  {
   "cell_type": "markdown",
   "id": "2534597e-4b0c-4563-a208-e2dd91064438",
   "metadata": {},
   "source": [
    "## Retreival QA"
   ]
  },
  {
   "cell_type": "code",
   "execution_count": 46,
   "id": "a8187aad",
   "metadata": {},
   "outputs": [],
   "source": [
    "db = DocArrayInMemorySearch.from_documents(\n",
    "    documents, \n",
    "    embeddings\n",
    ")"
   ]
  },
  {
   "cell_type": "code",
   "execution_count": 47,
   "id": "1be1fe19",
   "metadata": {},
   "outputs": [],
   "source": [
    "retriever = db.as_retriever()"
   ]
  },
  {
   "cell_type": "code",
   "execution_count": 54,
   "id": "32c94d22",
   "metadata": {
    "height": 115
   },
   "outputs": [],
   "source": [
    "qa_stuff = RetrievalQA.from_chain_type(\n",
    "    llm=llm_replacement_model, \n",
    "    chain_type=\"stuff\", \n",
    "    retriever=retriever, \n",
    "    verbose=True\n",
    ")"
   ]
  },
  {
   "cell_type": "code",
   "execution_count": 55,
   "id": "e4769316",
   "metadata": {
    "height": 47
   },
   "outputs": [],
   "source": [
    "query =  \"Please list all your articles with the topic of AI in a table in markdown and summarize each one\""
   ]
  },
  {
   "cell_type": "code",
   "execution_count": 56,
   "id": "1fc3c2f3",
   "metadata": {
    "height": 30
   },
   "outputs": [
    {
     "name": "stdout",
     "output_type": "stream",
     "text": [
      "\n",
      "\n",
      "\u001b[1m> Entering new RetrievalQA chain...\u001b[0m\n",
      "\n",
      "\u001b[1m> Finished chain.\u001b[0m\n"
     ]
    }
   ],
   "source": [
    "response = qa_stuff.run(query)"
   ]
  },
  {
   "cell_type": "code",
   "execution_count": 57,
   "id": "fba1a5db",
   "metadata": {
    "height": 30
   },
   "outputs": [
    {
     "data": {
      "text/markdown": [
       "Here is a table in markdown format listing the articles related to AI along with their summaries:\n",
       "\n",
       "| Title                                                                 | Date       | Summary                                                                                                           | URL                                                                                       |\n",
       "|-----------------------------------------------------------------------|------------|-------------------------------------------------------------------------------------------------------------------|-------------------------------------------------------------------------------------------|\n",
       "| How to Use AI to Answer Questions                                      | 04/10/2024 | This article discusses how to effectively ask AI questions to get the best results, covering various types of inquiries. | [Read more](https://www.cnet.com/tech/services-and-software/how-to-use-ai-to-answer-questions/) |\n",
       "| Why artificial intelligence and clean energy need each other          | 08/10/2024 | The article explores the interdependence of AI and clean energy, emphasizing the need for enhanced electricity infrastructure to support AI's power demands. | [Read more](https://www.technologyreview.com/2024/10/08/1105165/why-artificial-intelligence-and-clean-energy-need-each-other/) |\n",
       "| Corporate Governance Jumps Into The Artificial Intelligence Discussion | 07/10/2024 | This piece highlights new guidance from the National Association of Corporate Directors on the role of board governance in overseeing AI and technology use. | [Read more](https://www.forbes.com/sites/michaelperegrine/2024/10/07/corporate-governance-jumps-into-the-artificial-intelligence-discussion/) |\n",
       "| How to effectively manage AI projects in 12 steps                     | 09/10/2024 | The article outlines 12 steps to successfully manage AI projects, aiming to help organizations achieve better results and deliver business value. | [Read more](https://www.techtarget.com/searchenterpriseai/tip/How-to-effectively-manage-AI-projects) |"
      ],
      "text/plain": [
       "<IPython.core.display.Markdown object>"
      ]
     },
     "metadata": {},
     "output_type": "display_data"
    }
   ],
   "source": [
    "display(Markdown(response))"
   ]
  },
  {
   "cell_type": "code",
   "execution_count": null,
   "id": "a9b58916",
   "metadata": {
    "height": 30
   },
   "outputs": [],
   "source": []
  },
  {
   "cell_type": "code",
   "execution_count": null,
   "id": "d590b337",
   "metadata": {
    "height": 30
   },
   "outputs": [],
   "source": []
  },
  {
   "cell_type": "code",
   "execution_count": null,
   "id": "b2cb587c",
   "metadata": {
    "height": 30
   },
   "outputs": [],
   "source": []
  },
  {
   "cell_type": "code",
   "execution_count": null,
   "id": "1ec249f1",
   "metadata": {
    "height": 30
   },
   "outputs": [],
   "source": []
  },
  {
   "cell_type": "code",
   "execution_count": null,
   "id": "9d64f166",
   "metadata": {
    "height": 30
   },
   "outputs": [],
   "source": []
  },
  {
   "cell_type": "code",
   "execution_count": null,
   "id": "21322e7e",
   "metadata": {
    "height": 30
   },
   "outputs": [],
   "source": []
  }
 ],
 "metadata": {
  "kernelspec": {
   "display_name": "Python 3 (ipykernel)",
   "language": "python",
   "name": "python3"
  },
  "language_info": {
   "codemirror_mode": {
    "name": "ipython",
    "version": 3
   },
   "file_extension": ".py",
   "mimetype": "text/x-python",
   "name": "python",
   "nbconvert_exporter": "python",
   "pygments_lexer": "ipython3",
   "version": "3.9.10"
  }
 },
 "nbformat": 4,
 "nbformat_minor": 5
}
