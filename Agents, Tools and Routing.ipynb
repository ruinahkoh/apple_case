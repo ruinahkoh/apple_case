{
 "cells": [
  {
   "cell_type": "markdown",
   "id": "b6ed6c56",
   "metadata": {},
   "source": [
    "### Agents, Tools and Routing\n",
    "In this Notebook we explore how to define our own functions and tools and employ routing to call these functions.\n",
    "We will use both the Wikipedia function and a News api function to call different sources of information."
   ]
  },
  {
   "cell_type": "code",
   "execution_count": 88,
   "id": "12ad403b",
   "metadata": {},
   "outputs": [],
   "source": [
    "import os\n",
    "import openai\n",
    "from datetime import datetime, date, timedelta\n",
    "# from newspaper import Article\n",
    "from config import API_KEY\n",
    "from newsapi  import NewsApiClient\n",
    "import zipfile\n",
    "import pandas as pd\n",
    "\n",
    "from dotenv import load_dotenv, find_dotenv\n",
    "_ = load_dotenv(find_dotenv()) # read local .env file\n",
    "openai.api_key = os.environ['OPENAI_API_KEY']\n",
    "\n",
    "from langchain.agents import tool\n",
    "from langchain.chat_models import ChatOpenAI\n",
    "from langchain_community.utilities import StackExchangeAPIWrapper"
   ]
  },
  {
   "cell_type": "markdown",
   "id": "aa794b60",
   "metadata": {},
   "source": [
    "### Defining the Wikipedia tool\n",
    "This tool allows you to perform a general search on wikipedia "
   ]
  },
  {
   "cell_type": "code",
   "execution_count": 45,
   "id": "4e3c3ddf",
   "metadata": {},
   "outputs": [],
   "source": [
    "# Wikipedia Tool\n",
    "import wikipedia\n",
    "@tool\n",
    "def search_wikipedia(query: str) -> str:\n",
    "    \"\"\"Run Wikipedia search and get page summaries.\"\"\"\n",
    "    page_titles = wikipedia.search(query)\n",
    "    summaries = []\n",
    "    for page_title in page_titles[: 3]:\n",
    "        try:\n",
    "            wiki_page =  wikipedia.page(title=page_title, auto_suggest=False)\n",
    "            summaries.append(f\"Page: {page_title}\\nSummary: {wiki_page.summary}\")\n",
    "        except (\n",
    "            self.wiki_client.exceptions.PageError,\n",
    "            self.wiki_client.exceptions.DisambiguationError,\n",
    "        ):\n",
    "            pass\n",
    "    if not summaries:\n",
    "        return \"No good Wikipedia Search Result was found\"\n",
    "    return \"\\n\\n\".join(summaries)"
   ]
  },
  {
   "cell_type": "markdown",
   "id": "86dcce60",
   "metadata": {},
   "source": [
    "### Defining the News API tool\n",
    "This tool allows you to call the newspaw api and get up to date news on a topic of your choice"
   ]
  },
  {
   "cell_type": "code",
   "execution_count": 84,
   "id": "bf71b668",
   "metadata": {},
   "outputs": [],
   "source": [
    "# News API tool\n",
    "import requests\n",
    "from pydantic import BaseModel, Field\n",
    "from langchain.tools.render import format_tool_to_openai_function\n",
    "\n",
    "@tool\n",
    "def get_news_articles(query: str) -> str:\n",
    "    \"\"\"Run news articles search and get summaries\"\"\"\n",
    "    \n",
    "    print(query)\n",
    "    # Init\n",
    "    newsapi = NewsApiClient(api_key=API_KEY)\n",
    "    \n",
    "  \n",
    "    date_to = date.today()\n",
    "\n",
    "\n",
    "    date_from = date_to - timedelta(days=2)\n",
    "    date_to = datetime.strftime(date_to,'%Y-%m-%d')\n",
    "    date_from = datetime.strftime(date_from,'%Y-%m-%d')\n",
    "    print(\"Getting for dates from\", date_from, \"to\", date_to)\n",
    "    # get everything using topic for query key\n",
    "    # retrieve only 10 articles\n",
    "    articles= newsapi.get_everything(q=query,language='en', page=1,page_size=10, from_param=date_from,\n",
    "                                      to=date_to)\n",
    "\n",
    "    art=[]\n",
    "    \n",
    "    for i in range(len(articles['articles'])):\n",
    "        title = articles['articles'][i]['title']\n",
    "        url = articles['articles'][i]['url']\n",
    "        blurp = articles['articles'][i]['description']\n",
    "        imgurl = articles['articles'][i]['urlToImage']\n",
    "        article_date = articles['articles'][i]['publishedAt']\n",
    "        article_date = article_date.split('T')[0]\n",
    "        source = articles['articles'][i]['source']['name'].lower()\n",
    "\n",
    "        try:\n",
    "            text, blurp1 = get_key_word(url)\n",
    "        except:\n",
    "            text = articles['articles'][i]['content']\n",
    "\n",
    "        try:\n",
    "            article_date = datetime.strptime(article_date, \"%Y-%m-%d\")\n",
    "            article_date = datetime.strftime(article_date, \"%d/%m/%Y\")\n",
    "        except IndexError:\n",
    "            article_date = date.today().replace(day=1)\n",
    "            article_date = datetime.strftime(article_date, \"%d/%m/%Y\")\n",
    "        art.append(\n",
    "        {\n",
    "            'title': title,\n",
    "            'imgurl': imgurl,\n",
    "            'date': article_date,\n",
    "            'blurp': blurp,\n",
    "            'url': url,\n",
    "            'text': text,\n",
    "            'source': source\n",
    "        })\n",
    "    return art\n"
   ]
  },
  {
   "cell_type": "code",
   "execution_count": 85,
   "id": "7e181f37",
   "metadata": {},
   "outputs": [
    {
     "name": "stdout",
     "output_type": "stream",
     "text": [
      "artificial intelligence\n",
      "Getting for dates from 2024-11-20 to 2024-11-22\n"
     ]
    },
    {
     "data": {
      "text/plain": [
       "[{'title': 'Must-do privacy settings on your iPhone in iOS 18.1',\n",
       "  'imgurl': 'https://static.foxnews.com/foxnews.com/content/uploads/2024/11/1-must-turn-off-privacy-settings-on-your-iphone-in-ios-18.1-ai.jpg',\n",
       "  'date': '20/11/2024',\n",
       "  'blurp': \"Apple's latest iOS update introduces advanced artificial intelligence capabilities, which may be capturing and analyzing sensitive information.\",\n",
       "  'url': 'https://www.foxnews.com/tech/must-do-privacy-settings-your-iphone-ios-18-1',\n",
       "  'text': 'With Apple rolling out the latest iOS 18.1 update, privacy has become an even hotter topic. The update introduces advanced AI capabilities through Apple Intelligence and Siri, giving your device more… [+6131 chars]',\n",
       "  'source': 'fox news'},\n",
       " {'title': 'A Trump 2.0 Agenda For Artificial Intelligence',\n",
       "  'imgurl': 'https://imageio.forbes.com/specials-images/imageserve/673e07e448f52276f6a8628d/0x0.jpg?format=jpg&height=900&width=1600&fit=bounds',\n",
       "  'date': '20/11/2024',\n",
       "  'blurp': 'As Trump begins his second term, he should prioritize a comprehensive AI agenda that spans deregulation, domestic energy production, and infrastructure permitting reform.',\n",
       "  'url': 'https://www.forbes.com/sites/jamesbroughel/2024/11/20/a-trump-20-agenda-for-artificial-intelligence/',\n",
       "  'text': \"Artificial intelligence policy is poised for a significant shift following Donald Trump's recent ... [+] election victory.\\r\\nNurPhoto via Getty Images\\r\\nArtificial intelligence represents an unpreceden… [+7540 chars]\",\n",
       "  'source': 'forbes'},\n",
       " {'title': \"'Generative AI Is Still Just a Prediction Machine'\",\n",
       "  'imgurl': 'https://a.fsdn.com/sd/topics/ai_64.png',\n",
       "  'date': '20/11/2024',\n",
       "  'blurp': 'AI tools remain prediction engines despite new capabilities, requiring both quality data and human judgment for successful deployment, according to new analysis. While generative AI can now handle complex tasks like writing and coding, its fundamental nature …',\n",
       "  'url': 'https://tech.slashdot.org/story/24/11/20/1517200/generative-ai-is-still-just-a-prediction-machine',\n",
       "  'text': 'Thinking of computers as arithmetic machines is more important than most people intuitively grasp because that understanding is fundamental to using computers effectively, whether for work or enterta… [+754 chars]',\n",
       "  'source': 'slashdot.org'},\n",
       " {'title': 'Better Artificial Intelligence Stock: Nvidia vs. Palantir',\n",
       "  'imgurl': 'https://biztoc.com/cdn/dc3b03f86e6982f5_s.webp',\n",
       "  'date': '20/11/2024',\n",
       "  'blurp': 'Palantir (NYSE: PLTR) and Nvidia (NASDAQ: NVDA) are two of the best-performing stocks on the S&P 500 this year. In fact, they rank in second and third place for share price gains, respectively, behind only Vistra, an unregulated utility that has spiked on bet…',\n",
       "  'url': 'https://biztoc.com/x/dc3b03f86e6982f5',\n",
       "  'text': 'Palantir (NYSE: PLTR) and Nvidia (NASDAQ: NVDA) are two of the best-performing stocks on the S&amp;P 500 this year. In fact, they rank in second and third place for share price gains, respectively, b… [+150 chars]',\n",
       "  'source': 'biztoc.com'},\n",
       " {'title': 'Better Artificial Intelligence Stock: Nvidia vs. Palantir',\n",
       "  'imgurl': 'https://biztoc.com/cdn/808/og.png',\n",
       "  'date': '20/11/2024',\n",
       "  'blurp': 'Palantir (PLTR -2.33%) and Nvidia (NVDA -2.25%) are two of the best-performing stocks on the S&P 500 this year. In fact, they rank in second and third place for share price gains, respectively, behind only Vistra, an unregulated utility that has spiked on bet…',\n",
       "  'url': 'https://biztoc.com/x/166218ea06378627',\n",
       "  'text': 'Palantir (PLTR -2.33%) and Nvidia (NVDA -2.25%) are two of the best-performing stocks on the S&amp;P 500 this year. In fact, they rank in second and third place for share price gains, respectively, b… [+151 chars]',\n",
       "  'source': 'biztoc.com'},\n",
       " {'title': 'Artificial Intelligence Students Go To School To Learn Math',\n",
       "  'imgurl': 'https://imageio.forbes.com/specials-images/imageserve/673e59b23d68849acd581646/0x0.jpg?format=jpg&height=900&width=1600&fit=bounds',\n",
       "  'date': '20/11/2024',\n",
       "  'blurp': 'These new models are getting high marks in a subject that many humans tend to do poorly on.',\n",
       "  'url': 'https://www.forbes.com/sites/johnwerner/2024/11/20/artificial-intelligence-students-go-to-school-to-learn-math/',\n",
       "  'text': '(GERMANY OUT) Schueler einer Ganztagsschule schreiben einen Abschlusstest im Fach Mathematik (Photo ... [+] by Eckel/ullstein bild via Getty Images)\\r\\nullstein bild via Getty Images\\r\\nImagine a classro… [+3754 chars]',\n",
       "  'source': 'forbes'},\n",
       " {'title': 'The wait for the iPhone SE 4 is almost over',\n",
       "  'imgurl': 'https://www.digitaltrends.com/wp-content/uploads/2020/04/iphone_se_photo_3.jpg?resize=1200%2C630&p=1',\n",
       "  'date': '20/11/2024',\n",
       "  'blurp': 'The iPhone SE 4 could launch as early as March, according to new information. The budget-friendly handset is expected to resemble the iPhone 14.',\n",
       "  'url': 'https://www.digitaltrends.com/mobile/the-wait-for-iphone-se-4-is-almost-over-march-2025-release/',\n",
       "  'text': 'We know the iPhone SE 4 is on the way — that’s been leaked over and over again. The question on everyone’s mind is exactly when the new model will be released.\\r\\nPreviously, information pointed to a s… [+1531 chars]',\n",
       "  'source': 'digital trends'},\n",
       " {'title': 'How to Use AI to Plan Your Thanksgiving Dinner',\n",
       "  'imgurl': 'https://www.cnet.com/a/img/resize/5aa62b6562d59597c6085e6687e5d3e977a8eefd/hub/2024/09/19/13a14b96-e174-48ab-a20d-9fae14c2d6fb/gettyimages-2152334591.jpg?auto=webp&fit=crop&height=675&width=1200',\n",
       "  'date': '20/11/2024',\n",
       "  'blurp': \"Thanksgiving is just one week away. If you're hosting this year, here's how AI could help you plan the menu.\",\n",
       "  'url': 'https://www.cnet.com/tech/services-and-software/how-to-use-ai-to-plan-your-thanksgiving-dinner/',\n",
       "  'text': \"With just one week until\\xa0Thanksgiving, it's time to seriously start planning the menu. If you're dreaming of the perfect turkey and sides,\\xa0artificial intelligence\\xa0might just be the best sous-chef out… [+3980 chars]\",\n",
       "  'source': 'cnet'},\n",
       " {'title': 'Investors Appear to Think Bluesky Crypto Firm Is the Bluesky Social Network',\n",
       "  'imgurl': 'https://gizmodo.com/app/uploads/2024/11/bluesky-investor-mistake.jpg',\n",
       "  'date': '20/11/2024',\n",
       "  'blurp': 'The social media platform Bluesky has grown from 12 million to more than 20 million users since the election.',\n",
       "  'url': 'https://gizmodo.com/investors-appear-to-think-bluesky-crypto-firm-is-the-bluesky-social-network-2000527227',\n",
       "  'text': 'Bluesky is having a moment. No, not that Bluesky, the other one.\\r\\nThe Canadian crypto company Bluesky Digital Assets Corp has seen its stock take off, in a manner of speaking, over the past week as i… [+2317 chars]',\n",
       "  'source': 'gizmodo.com'},\n",
       " {'title': 'AI jobs are hot, but data engineering jobs are also in demand',\n",
       "  'imgurl': 'https://biztoc.com/cdn/edb30aad43b47e1b_s.webp',\n",
       "  'date': '20/11/2024',\n",
       "  'blurp': \"There's a job category that has more demand than artificial intelligence specialists.\",\n",
       "  'url': 'https://biztoc.com/x/edb30aad43b47e1b',\n",
       "  'text': \"There's a job category that has more demand than artificial intelligence specialists.\\r\\nThis story appeared on bizjournals.com, 2024-11-20 14:00:00.\",\n",
       "  'source': 'biztoc.com'}]"
      ]
     },
     "execution_count": 85,
     "metadata": {},
     "output_type": "execute_result"
    }
   ],
   "source": [
    "# test the function\n",
    "get_news_articles('artificial intelligence')"
   ]
  },
  {
   "cell_type": "code",
   "execution_count": 23,
   "id": "419a0600",
   "metadata": {},
   "outputs": [
    {
     "data": {
      "text/plain": [
       "'get_news_articles'"
      ]
     },
     "execution_count": 23,
     "metadata": {},
     "output_type": "execute_result"
    }
   ],
   "source": [
    "get_news_articles.name"
   ]
  },
  {
   "cell_type": "code",
   "execution_count": 86,
   "id": "ec535c06",
   "metadata": {},
   "outputs": [
    {
     "name": "stdout",
     "output_type": "stream",
     "text": [
      "langchain\n",
      "Getting for dates from 2024-11-23 to 2024-11-25\n"
     ]
    },
    {
     "data": {
      "text/plain": [
       "[{'title': '32k context length text embedding models',\n",
       "  'imgurl': 'https://i0.wp.com/blog.voyageai.com/wp-content/uploads/2024/09/voyage-3-vector-space.jpg?fit=1024%2C1024&quality=89&ssl=1',\n",
       "  'date': '24/11/2024',\n",
       "  'blurp': 'TL;DR – We are excited to announce voyage-3 and voyage-3-lite embedding models, advancing the frontier of retrieval quality, latency, and cost. voyage-3 outperforms OpenAI v3 large by 7.55% on aver…',\n",
       "  'url': 'https://blog.voyageai.com/2024/09/18/voyage-3/',\n",
       "  'text': 'TL;DR We are excited to announce voyage-3 and voyage-3-lite embedding models, advancing the frontier of retrieval quality, latency, and cost. voyage-3 outperforms OpenAI v3 large by 7.55% on average … [+8419 chars]',\n",
       "  'source': 'voyageai.com'},\n",
       " {'title': 'Dear IT departments stop trying to build your own RAG',\n",
       "  'imgurl': 'https://miro.medium.com/v2/resize:fit:940/1*8yJrgGPFwHBY8lpIFg7ERQ.png',\n",
       "  'date': '24/11/2024',\n",
       "  'blurp': 'You would never ever in a million years build your own CRM system or custom CMS — or in most cases, your own LLM. And yet, everywhere I look, I see IT departments convincing themselves that building…',\n",
       "  'url': 'https://pub.towardsai.net/dear-it-departments-please-stop-trying-to-build-your-own-rag-4546b4638273',\n",
       "  'text': 'Look:\\r\\nYou would never ever in a million years build your own CRM system or custom CMS or in most cases, your own LLM.\\r\\nWould you?\\r\\nAnd yet, everywhere I look, I see IT departments convincing themsel… [+11740 chars]',\n",
       "  'source': 'towardsai.net'},\n",
       " {'title': 'ai-term added to PyPI',\n",
       "  'imgurl': 'https://pypi.org/static/images/twitter.abaf4b19.webp',\n",
       "  'date': '23/11/2024',\n",
       "  'blurp': 'A powerful CLI tool for AI interactions',\n",
       "  'url': 'https://pypi.org/project/ai-term/',\n",
       "  'text': 'Langgraph AI Terminal \\r\\nLangGraph Bot is a Python-based chatbot application that utilizes the LangGraph and LangChain libraries to process and respond to user inputs. The bot is designed to handle co… [+1685 chars]',\n",
       "  'source': 'pypi.org'}]"
      ]
     },
     "execution_count": 86,
     "metadata": {},
     "output_type": "execute_result"
    }
   ],
   "source": [
    "get_news_articles({\"query\":\"langchain\"})"
   ]
  },
  {
   "cell_type": "code",
   "execution_count": 28,
   "id": "bd6d4a31",
   "metadata": {},
   "outputs": [],
   "source": [
    "from langchain.tools.render import format_tool_to_openai_function"
   ]
  },
  {
   "cell_type": "code",
   "execution_count": 29,
   "id": "d5fb3d1b",
   "metadata": {},
   "outputs": [],
   "source": [
    "get_news_articles_fn =format_tool_to_openai_function(get_news_articles)"
   ]
  },
  {
   "cell_type": "code",
   "execution_count": 32,
   "id": "5b518135",
   "metadata": {},
   "outputs": [
    {
     "data": {
      "text/plain": [
       "{'name': 'get_news_articles',\n",
       " 'description': 'Run news articles search and get summaries',\n",
       " 'parameters': {'properties': {'query': {'type': 'string'}},\n",
       "  'required': ['query'],\n",
       "  'type': 'object'}}"
      ]
     },
     "execution_count": 32,
     "metadata": {},
     "output_type": "execute_result"
    }
   ],
   "source": [
    "get_news_articles_fn"
   ]
  },
  {
   "cell_type": "code",
   "execution_count": 33,
   "id": "e73edba1",
   "metadata": {},
   "outputs": [],
   "source": [
    "model = ChatOpenAI(temperature=0).bind(functions=[get_news_articles_fn])"
   ]
  },
  {
   "cell_type": "code",
   "execution_count": 39,
   "id": "f6847318",
   "metadata": {},
   "outputs": [
    {
     "data": {
      "text/plain": [
       "AIMessage(content='', additional_kwargs={'function_call': {'arguments': '{\"query\":\"langchain\"}', 'name': 'get_news_articles'}}, response_metadata={'token_usage': {'completion_tokens': 16, 'prompt_tokens': 54, 'total_tokens': 70, 'completion_tokens_details': {'audio_tokens': 0, 'reasoning_tokens': 0, 'accepted_prediction_tokens': 0, 'rejected_prediction_tokens': 0}, 'prompt_tokens_details': {'audio_tokens': 0, 'cached_tokens': 0}}, 'model_name': 'gpt-3.5-turbo', 'system_fingerprint': None, 'finish_reason': 'function_call', 'logprobs': None}, id='run-912b272f-a6cd-48ec-baaf-3aebe1673d53-0')"
      ]
     },
     "execution_count": 39,
     "metadata": {},
     "output_type": "execute_result"
    }
   ],
   "source": [
    "model.invoke(\"get 3 articles on langchain\")"
   ]
  },
  {
   "cell_type": "code",
   "execution_count": 40,
   "id": "0754253b",
   "metadata": {},
   "outputs": [],
   "source": [
    "from langchain.agents.output_parsers import OpenAIFunctionsAgentOutputParser\n",
    "from langchain.prompts import ChatPromptTemplate\n",
    "prompt = ChatPromptTemplate.from_messages([\n",
    "    (\"system\", \"You are helpful but sassy assistant\"),\n",
    "    (\"user\", \"{input}\"),\n",
    "])\n",
    "chain = prompt | model | OpenAIFunctionsAgentOutputParser()"
   ]
  },
  {
   "cell_type": "code",
   "execution_count": 41,
   "id": "37a2ee8c",
   "metadata": {},
   "outputs": [],
   "source": [
    "result = chain.invoke({\"input\": \"what articles write about langchain?\"})"
   ]
  },
  {
   "cell_type": "code",
   "execution_count": 42,
   "id": "cd925599",
   "metadata": {},
   "outputs": [
    {
     "data": {
      "text/plain": [
       "AgentActionMessageLog(tool='get_news_articles', tool_input={'query': 'Langchain'}, log=\"\\nInvoking: `get_news_articles` with `{'query': 'Langchain'}`\\n\\n\\n\", message_log=[AIMessage(content='', additional_kwargs={'function_call': {'arguments': '{\"query\":\"Langchain\"}', 'name': 'get_news_articles'}}, response_metadata={'token_usage': {'completion_tokens': 16, 'prompt_tokens': 62, 'total_tokens': 78, 'completion_tokens_details': {'audio_tokens': 0, 'reasoning_tokens': 0, 'accepted_prediction_tokens': 0, 'rejected_prediction_tokens': 0}, 'prompt_tokens_details': {'audio_tokens': 0, 'cached_tokens': 0}}, 'model_name': 'gpt-3.5-turbo', 'system_fingerprint': None, 'finish_reason': 'function_call', 'logprobs': None}, id='run-852d73fb-873f-4694-acda-379074f3bac2-0')])"
      ]
     },
     "execution_count": 42,
     "metadata": {},
     "output_type": "execute_result"
    }
   ],
   "source": [
    "result"
   ]
  },
  {
   "cell_type": "markdown",
   "id": "c3c091c9",
   "metadata": {},
   "source": [
    "### Defining a tool to call stackexchange \n",
    "Stackexchange is a network of question-and-answer (Q&A) websites each site covering a specific topic, where questions, answers, and users are subject to a reputation award process. You can use this to access stackoverflow for coding problems"
   ]
  },
  {
   "cell_type": "code",
   "execution_count": 98,
   "id": "343def65",
   "metadata": {},
   "outputs": [],
   "source": [
    "@tool\n",
    "def get_stackexchange_solution(query: str) -> str:\n",
    "    \"Stackexchange is a network of question-and-answer (Q&A) websites on topics in diverse fields, each site covering a specific topic, where questions, answers, and users are subject to a reputation award process. It can be used to access stackoverflow which focuses on computer programming\"\n",
    "    stackexchange = StackExchangeAPIWrapper()\n",
    "    results = stackexchange.run(query)\n",
    "    return results"
   ]
  },
  {
   "cell_type": "code",
   "execution_count": 99,
   "id": "a6b94766",
   "metadata": {},
   "outputs": [
    {
     "name": "stdout",
     "output_type": "stream",
     "text": [
      "Question: Unable to access variable that has been declared inside a class, outside of it\n",
      "My code <span class=\"highlight\">is</span> following:\n",
      "class makequestions(QMainWindow):\n",
      "\n",
      "    def __init__(self):\n",
      "        super(makequestions, self). &hellip; : &#39;makequestions&#39; object has no attribute &#39;questions&#39;\n",
      "\n",
      "Edit: I tried applying <span class=\"highlight\">what</span> @buzz8year advised, - declaring questions class property, - it works but it ends up taking the value of questions as None &hellip; \n",
      "\n",
      "Question: How to get information out of &#39;OneToOneField&#39; and use this information in admin.py list_display?\n",
      "I making my first site, this <span class=\"highlight\">is</span> my first big project so I stuck at one issue and can&#39;t solve it.. &hellip; I said <span class=\"highlight\">what</span> I tried above. &hellip; \n",
      "\n",
      "Question: Problem when trying to get Sector Market Cap\n",
      "Market Cap through the yfinance API through the following code:\n",
      "import yfinance as yf\n",
      "tech = yf.Sector(&#39;technology&#39;)\n",
      "software = yf.Industry(&#39;software-infrastructure&#39;)\n",
      "print(tech.overview)\n",
      "\n",
      "But the answer <span class=\"highlight\">is</span> &hellip; :\n",
      "\n",
      "<span class=\"highlight\">AttributeError</span>: module &#39;yfinance&#39; has no attribute &#39;Sector&#39;`\n",
      "\n",
      "May it be related with yfinance API instead of my usage? &hellip; \n"
     ]
    }
   ],
   "source": [
    "\n",
    "print(get_stackexchange_solution(\"what is AttributeError\"))"
   ]
  },
  {
   "cell_type": "code",
   "execution_count": 100,
   "id": "4b93371f",
   "metadata": {},
   "outputs": [],
   "source": [
    "\n",
    "functions = [\n",
    "    format_tool_to_openai_function(f) for f in [\n",
    "        search_wikipedia, get_news_articles, get_stackexchange_solution\n",
    "    ]\n",
    "]\n",
    "model = ChatOpenAI(temperature=0).bind(functions=functions)"
   ]
  },
  {
   "cell_type": "markdown",
   "id": "b57ccfab",
   "metadata": {},
   "source": [
    "### Routing using Agent\n",
    "- Using routing we can either access the wikipedia search, obtain news articles related to the topic we are interested in for more relevant news, or search for problems within stack exchange\n",
    "- As compared to the previous section, routing outputs the result of the tool instead of just the output of the AI agent"
   ]
  },
  {
   "cell_type": "code",
   "execution_count": 101,
   "id": "a1d238ea",
   "metadata": {},
   "outputs": [],
   "source": [
    "from langchain.schema.agent import AgentFinish\n",
    "def route(result):\n",
    "    if isinstance(result, AgentFinish):\n",
    "        return result.return_values['output']\n",
    "    else:\n",
    "        tools = {\n",
    "            \"search_wikipedia\": search_wikipedia, \n",
    "            \"get_news_articles\": get_news_articles,\n",
    "            \"get_stackexchange_solution\": get_stackexchange_solution\n",
    "        }\n",
    "        return tools[result.tool].run(result.tool_input)"
   ]
  },
  {
   "cell_type": "code",
   "execution_count": 102,
   "id": "43697434",
   "metadata": {},
   "outputs": [],
   "source": [
    "chain = prompt | model | OpenAIFunctionsAgentOutputParser() | route"
   ]
  },
  {
   "cell_type": "code",
   "execution_count": 103,
   "id": "dcc179b0",
   "metadata": {},
   "outputs": [],
   "source": [
    "result = chain.invoke({\"input\": \"How do I multiply each element in a list by a number\"})"
   ]
  },
  {
   "cell_type": "code",
   "execution_count": 104,
   "id": "f5f7ac96",
   "metadata": {},
   "outputs": [
    {
     "data": {
      "text/plain": [
       "\"You can multiply each element in a list by a number in Python using list comprehension. Here's an example code snippet:\\n\\n```python\\n# Define a list\\nmy_list = [1, 2, 3, 4, 5]\\n\\n# Define a number to multiply each element by\\nmultiplier = 2\\n\\n# Multiply each element in the list by the multiplier using list comprehension\\nresult = [element * multiplier for element in my_list]\\n\\nprint(result)\\n```\\n\\nIn this code snippet, `my_list` is the list of elements, and `multiplier` is the number you want to multiply each element by. The list comprehension `[element * multiplier for element in my_list]` multiplies each element in `my_list` by `multiplier` and stores the result in the `result` list.\\n\\nFeel free to try this code snippet in your Python environment!\""
      ]
     },
     "execution_count": 104,
     "metadata": {},
     "output_type": "execute_result"
    }
   ],
   "source": [
    "result"
   ]
  },
  {
   "cell_type": "code",
   "execution_count": 105,
   "id": "00af4496",
   "metadata": {},
   "outputs": [
    {
     "name": "stdout",
     "output_type": "stream",
     "text": [
      "langchain\n",
      "Getting for dates from 2024-11-26 to 2024-11-28\n"
     ]
    }
   ],
   "source": [
    "result = chain.invoke({\"input\": \"What articles talk about langchain?\"})"
   ]
  },
  {
   "cell_type": "code",
   "execution_count": 108,
   "id": "9d286f45",
   "metadata": {},
   "outputs": [
    {
     "data": {
      "text/plain": [
       "[{'title': 'Anthropic releases Model Context Protocol to standardize AI-data integration',\n",
       "  'imgurl': 'https://venturebeat.com/wp-content/uploads/2023/12/AdobeStock_621371321.jpeg?w=1024?w=1200&strip=all',\n",
       "  'date': '26/11/2024',\n",
       "  'blurp': 'Model Context Protocol, a new open source release from Anthropic, aims to eliminate the need to write code for every AI data integration.',\n",
       "  'url': 'https://venturebeat.com/data-infrastructure/anthropic-releases-model-context-protocol-to-standardize-ai-data-integration/',\n",
       "  'text': 'Join our daily and weekly newsletters for the latest updates and exclusive content on industry-leading AI coverage. Learn More\\r\\nOne decision many enterprises have to make when implementing AI use cas… [+3736 chars]',\n",
       "  'source': 'venturebeat'},\n",
       " {'title': 'Crafting a hybrid geospatial RAG application with Elastic and Amazon Bedrock',\n",
       "  'imgurl': 'https://static-www.elastic.co/v3/assets/bltefdd0b53724fa2ce/blt4e527c4d30fc4d9d/6745ecd1278118edb95d6058/power-of-your-data.jpg',\n",
       "  'date': '26/11/2024',\n",
       "  'blurp': 'This blog explores how to build a powerful retrieval augmented generation (RAG) system that incorporates geospatial data using Elasticsearch, Amazon Bedrock, and LangChain....',\n",
       "  'url': 'https://www.elastic.co/blog/hybrid-geospatial-rag-application-elastic-amazon-bedrock',\n",
       "  'text': 'With Elasticsearch and its vector database, you can build configurable search and trusted generative AI (GenAI) experiences that scale from prototype to production fast. Key features include:\\r\\n<ul><l… [+12670 chars]',\n",
       "  'source': 'elastic.co'},\n",
       " {'title': 'Build an Autonomous AI Assistant with Mosaic AI Agent Framework',\n",
       "  'imgurl': 'https://www.databricks.com/sites/default/files/2024-11/agent-social-card-1.png?v=1732640784',\n",
       "  'date': '26/11/2024',\n",
       "  'blurp': 'Large language models are revolutionizing how we interact with technology by leveraging advanced natural language processing to perform complex tasks. In recent years...',\n",
       "  'url': 'https://www.databricks.com/blog/build-autonomous-ai-assistant-mosaic-ai-agent-framework',\n",
       "  'text': 'Large language models are revolutionizing how we interact with technology by leveraging advanced natural language processing to perform complex tasks. In recent years, we have seen state-of-the-art L… [+19777 chars]',\n",
       "  'source': 'databricks.com'},\n",
       " {'title': 'cognify-ai added to PyPI',\n",
       "  'imgurl': 'https://pypi.org/static/images/twitter.abaf4b19.webp',\n",
       "  'date': '26/11/2024',\n",
       "  'blurp': 'An optimizer for genAI workflows',\n",
       "  'url': 'https://pypi.org/project/cognify-ai/',\n",
       "  'text': 'Building high-quality, cost-effective generative-AI (gen-AI) applications is challenging due to the absence of systematic methods for tuning, testing, and optimizing them.\\r\\nWe introduce Cognify, a to… [+3254 chars]',\n",
       "  'source': 'pypi.org'},\n",
       " {'title': 'langtask added to PyPI',\n",
       "  'imgurl': 'https://pypi.org/static/images/twitter.abaf4b19.webp',\n",
       "  'date': '26/11/2024',\n",
       "  'blurp': 'A Python library for structured LLM development with schema validation',\n",
       "  'url': 'https://pypi.org/project/langtask/',\n",
       "  'text': 'LangTask is a lightweight Python library for rapidly setting up and managing LLM prompts with structured input/output validation. It provides a clean, type-safe interface for working with language mo… [+7058 chars]',\n",
       "  'source': 'pypi.org'}]"
      ]
     },
     "execution_count": 108,
     "metadata": {},
     "output_type": "execute_result"
    }
   ],
   "source": [
    "result"
   ]
  },
  {
   "cell_type": "code",
   "execution_count": null,
   "id": "c6e25404",
   "metadata": {},
   "outputs": [],
   "source": []
  }
 ],
 "metadata": {
  "kernelspec": {
   "display_name": "Python 3 (ipykernel)",
   "language": "python",
   "name": "python3"
  },
  "language_info": {
   "codemirror_mode": {
    "name": "ipython",
    "version": 3
   },
   "file_extension": ".py",
   "mimetype": "text/x-python",
   "name": "python",
   "nbconvert_exporter": "python",
   "pygments_lexer": "ipython3",
   "version": "3.9.10"
  }
 },
 "nbformat": 4,
 "nbformat_minor": 5
}
