{
 "cells": [
  {
   "cell_type": "code",
   "execution_count": 1,
   "id": "04e5f802",
   "metadata": {},
   "outputs": [
    {
     "name": "stderr",
     "output_type": "stream",
     "text": [
      "/Users/ruinah/Documents/ISYE6740/project/api/myenv/lib/python3.9/site-packages/pandas/core/computation/expressions.py:21: UserWarning: Pandas requires version '2.8.4' or newer of 'numexpr' (version '2.8.1' currently installed).\n",
      "  from pandas.core.computation.check import NUMEXPR_INSTALLED\n"
     ]
    }
   ],
   "source": [
    "import pandas as pd\n",
    "import numpy as np\n",
    "import random"
   ]
  },
  {
   "cell_type": "code",
   "execution_count": 2,
   "id": "2284925f",
   "metadata": {},
   "outputs": [],
   "source": [
    "df = pd.read_csv('../data/AppleProducts.csv')"
   ]
  },
  {
   "cell_type": "code",
   "execution_count": 3,
   "id": "ba53cedb",
   "metadata": {},
   "outputs": [],
   "source": [
    "### Creating mock inventory from products"
   ]
  },
  {
   "cell_type": "code",
   "execution_count": 4,
   "id": "e1ea366f",
   "metadata": {},
   "outputs": [],
   "source": [
    "df['Product Name'] = df['Product Name'].apply(lambda x: 'Apple ' + x)\n",
    "#split into separate rows for each storage\n",
    "df['Storage'] = df['Storage'].str.split(',')\n",
    "df = df.explode('Storage')\n",
    "df.reset_index(inplace=True, drop=True)\n",
    "# convert price to float\n",
    "df['Price ($)'] = df['Price ($)'].apply(lambda x: float(x))\n",
    "df['Storage'] = df['Storage'].str.strip()"
   ]
  },
  {
   "cell_type": "code",
   "execution_count": 5,
   "id": "95262b39",
   "metadata": {},
   "outputs": [],
   "source": [
    "df.loc[((df['Storage']=='256GB') & (df['Product Type'] == 'Smartphone')),'Price ($)'] = df.loc[((df['Storage']=='256GB') & (df['Product Type'] == 'Smartphone')),'Price ($)'] +300"
   ]
  },
  {
   "cell_type": "code",
   "execution_count": 6,
   "id": "c8ee6a9d",
   "metadata": {},
   "outputs": [],
   "source": [
    "df.loc[((df['Storage']=='512GB') & (df['Product Type'] == 'Smartphone')),'Price ($)'] = df.loc[((df['Storage']=='512GB') & (df['Product Type'] == 'Smartphone')),'Price ($)'] +700"
   ]
  },
  {
   "cell_type": "code",
   "execution_count": 7,
   "id": "214702cd",
   "metadata": {},
   "outputs": [],
   "source": [
    "df.loc[((df['Storage']=='256GB') & (df['Product Type'] == 'Smartphone')),'Price ($)'] = df.loc[((df['Storage']=='256GB') & (df['Product Type'] == 'Tablet')),'Price ($)'] +700"
   ]
  },
  {
   "cell_type": "code",
   "execution_count": 8,
   "id": "ac83f862",
   "metadata": {},
   "outputs": [],
   "source": [
    "df.to_csv('../data/apple_products.csv', index=False)"
   ]
  },
  {
   "cell_type": "code",
   "execution_count": 9,
   "id": "ed772841",
   "metadata": {},
   "outputs": [],
   "source": [
    "df['Colour'] = df['Colour'].str.split(',')\n",
    "df = df.explode('Colour')"
   ]
  },
  {
   "cell_type": "code",
   "execution_count": 10,
   "id": "0250bb61",
   "metadata": {},
   "outputs": [],
   "source": [
    "df['inventory'] = 1\n",
    "df['inventory'] = df['inventory'].apply(lambda x: x * random.randint(0, 500))"
   ]
  },
  {
   "cell_type": "code",
   "execution_count": 11,
   "id": "9cd05666",
   "metadata": {},
   "outputs": [],
   "source": [
    "df.reset_index(drop=True, inplace=True)"
   ]
  },
  {
   "cell_type": "code",
   "execution_count": 12,
   "id": "840b72a4",
   "metadata": {},
   "outputs": [],
   "source": [
    "df.to_csv('../data/apple_inventory.csv', index=False)"
   ]
  },
  {
   "cell_type": "code",
   "execution_count": null,
   "id": "3959dd2f",
   "metadata": {},
   "outputs": [],
   "source": []
  },
  {
   "cell_type": "code",
   "execution_count": null,
   "id": "ed3766c7",
   "metadata": {},
   "outputs": [],
   "source": []
  }
 ],
 "metadata": {
  "kernelspec": {
   "display_name": "Python 3 (ipykernel)",
   "language": "python",
   "name": "python3"
  },
  "language_info": {
   "codemirror_mode": {
    "name": "ipython",
    "version": 3
   },
   "file_extension": ".py",
   "mimetype": "text/x-python",
   "name": "python",
   "nbconvert_exporter": "python",
   "pygments_lexer": "ipython3",
   "version": "3.9.10"
  }
 },
 "nbformat": 4,
 "nbformat_minor": 5
}
